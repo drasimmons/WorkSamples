{
 "cells": [
  {
   "cell_type": "markdown",
   "metadata": {},
   "source": [
    "# Factor Analysis Sample"
   ]
  },
  {
   "cell_type": "markdown",
   "metadata": {},
   "source": [
    "## Context"
   ]
  },
  {
   "cell_type": "markdown",
   "metadata": {},
   "source": [
    "A team of physics education and educational psychology researchers adapted a series of motivational and attitudinal factors (previously used for surveys of undergraduate students in various programs) and administered these scales to physics graduate students at The Ohio State University.  Because the scales were adapted to the context of physics graduate students, we need to evaluate if each scale is measuring one factor (as desired, e.g. \"belonging\") or multiple factors (in which case the scales can be reduced in item number and/or altered further).\n",
    "\n",
    "Example: We administer 11 survey items that we believe should measure a student's sense of belonging within the context of our department.  If factor analysis shows that these items load onto one factor, then we can comfortably say that these items all measure the same unobserved variable (and we imagine that variable is \"belonging\").  If the factor analysis reveals more than one factor, then we can eliminate items from the scale that do not load onto a primary factor (the one onto which most items load).  If there are multiple factors, it may also be the case that our scale \"belonging\" contains subscales. "
   ]
  },
  {
   "cell_type": "markdown",
   "metadata": {},
   "source": [
    "## Analyses"
   ]
  },
  {
   "cell_type": "code",
   "execution_count": 2,
   "metadata": {},
   "outputs": [
    {
     "data": {
      "text/plain": [
       "<bound method NDFrame.head of        SID  Pop    Year  Uni  SSB.1_1  SSB.1_2  SSB.1_3  SSB.1_4  SSB.1_5  \\\n",
       "0    A2N22    A  2018.0  OSU      NaN      NaN      NaN      NaN      NaN   \n",
       "1    A2N10    A  2018.0  OSU      NaN      NaN      NaN      NaN      NaN   \n",
       "2    A2N13    A  2018.0  OSU      NaN      NaN      NaN      NaN      NaN   \n",
       "3    A2N25    A  2018.0  OSU      NaN      NaN      NaN      NaN      NaN   \n",
       "4     A2N3    A  2018.0  OSU      NaN      NaN      NaN      NaN      NaN   \n",
       "5     A2N8    A  2018.0  OSU      NaN      NaN      NaN      NaN      NaN   \n",
       "6     A2N7    A  2018.0  OSU      NaN      NaN      NaN      NaN      NaN   \n",
       "7    A2N15    A  2018.0  OSU      NaN      NaN      NaN      NaN      NaN   \n",
       "8    A2N21    A  2018.0  OSU      NaN      NaN      NaN      NaN      NaN   \n",
       "9     A2N5    A  2018.0  OSU      NaN      NaN      NaN      NaN      NaN   \n",
       "10   A2N26    A  2018.0  OSU      NaN      NaN      NaN      NaN      NaN   \n",
       "11   A2N14    A  2018.0  OSU      NaN      NaN      NaN      NaN      NaN   \n",
       "12   A2N19    A  2018.0  OSU      NaN      NaN      NaN      NaN      NaN   \n",
       "13   A2N27    A  2018.0  OSU      NaN      NaN      NaN      NaN      NaN   \n",
       "14    A2N1    A  2018.0  OSU      NaN      NaN      NaN      NaN      NaN   \n",
       "15   A1N22    A  2018.0  OSU      NaN      NaN      NaN      NaN      NaN   \n",
       "16   A2N16    A  2018.0  OSU      NaN      NaN      NaN      NaN      NaN   \n",
       "17   A2N29    A  2018.0  OSU      NaN      NaN      NaN      NaN      NaN   \n",
       "18   A2N23    A  2018.0  OSU      NaN      NaN      NaN      NaN      NaN   \n",
       "19   A2N17    A  2018.0  OSU      NaN      NaN      NaN      NaN      NaN   \n",
       "20    A2N6    A  2018.0  OSU      NaN      NaN      NaN      NaN      NaN   \n",
       "21    A2N2    A  2018.0  OSU      NaN      NaN      NaN      NaN      NaN   \n",
       "22    A1N3    A  2018.0  OSU      NaN      NaN      NaN      NaN      NaN   \n",
       "23    A2N4    A  2018.0  OSU      NaN      NaN      NaN      NaN      NaN   \n",
       "24   A2N20    A  2018.0  OSU      NaN      NaN      NaN      NaN      NaN   \n",
       "25   A2N11    A  2018.0  OSU      NaN      NaN      NaN      NaN      NaN   \n",
       "26   A2N12    A  2018.0  OSU      NaN      NaN      NaN      NaN      NaN   \n",
       "27    A2N9    A  2018.0  OSU      NaN      NaN      NaN      NaN      NaN   \n",
       "28   A2N32    A  2018.0  OSU      NaN      NaN      NaN      NaN      NaN   \n",
       "29   A2N18    A  2018.0  OSU      NaN      NaN      NaN      NaN      NaN   \n",
       "..     ...  ...     ...  ...      ...      ...      ...      ...      ...   \n",
       "223  C1N27    C  2017.0  OSU      3.0      3.0      3.0      3.0      2.0   \n",
       "224  C1N29    C  2017.0  OSU      1.0      1.0      1.0      1.0      1.0   \n",
       "225  C1N32    C  2017.0  OSU      3.0      2.0      2.0      2.0      2.0   \n",
       "226  C1N33    C  2017.0  OSU      1.0      3.0     -2.0      2.0      3.0   \n",
       "227  C1N34    C  2017.0  OSU      0.0      2.0      3.0      3.0      3.0   \n",
       "228  C1N35    C  2017.0  OSU      2.0      2.0      2.0      2.0      2.0   \n",
       "229  C1N36    C  2017.0  OSU      1.0      3.0      3.0      0.0      3.0   \n",
       "230  C1N37    C  2017.0  OSU      2.0      2.0      2.0      2.0      1.0   \n",
       "231  C1N38    C  2017.0  OSU     -2.0      2.0      2.0      0.0      2.0   \n",
       "232  C1N40    C  2017.0  OSU      1.0      3.0      1.0      3.0      3.0   \n",
       "233   B1N9    C  2017.0  OSU     -1.0      2.0      2.0      2.0      3.0   \n",
       "234  C1N42    C  2017.0  OSU      0.0      2.0      2.0      2.0      3.0   \n",
       "235  C1N44    C  2017.0  OSU     -2.0      3.0      3.0      3.0      2.0   \n",
       "236  C1N45    C  2017.0  OSU     -1.0      2.0      0.0      0.0      1.0   \n",
       "237  B2N29    C  2017.0  OSU     -3.0     -3.0     -3.0      2.0      1.0   \n",
       "238  C1N48    C  2017.0  OSU      2.0      2.0      2.0      2.0      2.0   \n",
       "239  C1N49    C  2017.0  OSU      3.0      3.0      2.0      2.0      2.0   \n",
       "240  C1N50    C  2017.0  OSU     -2.0     -2.0      1.0      0.0      2.0   \n",
       "241  C1N51    C  2017.0  OSU      1.0      2.0      2.0      2.0      2.0   \n",
       "242  C1N52    C  2017.0  OSU      1.0      3.0      3.0      2.0      3.0   \n",
       "243  C1N55    C  2017.0  OSU      0.0      2.0      1.0     -1.0      3.0   \n",
       "244  C1N57    C  2017.0  OSU      2.0      2.0      2.0      2.0      2.0   \n",
       "245  C1N58    C  2017.0  OSU      0.0      2.0     -2.0      2.0      3.0   \n",
       "246  C1N60    C  2017.0  OSU      1.0      2.0      2.0      1.0      2.0   \n",
       "247  C1N61    C  2017.0  OSU      1.0      2.0      2.0      2.0      2.0   \n",
       "248  B1N14    C  2017.0  OSU      1.0      2.0      2.0      2.0      2.0   \n",
       "249  B2N35    C  2017.0  OSU      2.0      1.0      1.0      2.0      1.0   \n",
       "250  C1N27    C  2017.0  OSU      1.0      1.0     -1.0      0.0      0.0   \n",
       "251  B1N13    C  2017.0  OSU      1.0      2.0      2.0      2.0      1.0   \n",
       "252    NaN  NaN     NaN  NaN      NaN      NaN      NaN      NaN      NaN   \n",
       "\n",
       "     SSB.1_6R  ...  Quantum2GPA  MathMethodsGPA  EM1GPA  ClassStatMech1GPA  \\\n",
       "0         NaN  ...          3.7             3.7     4.0                3.7   \n",
       "1         NaN  ...          4.0             4.0     4.0                3.7   \n",
       "2         NaN  ...          0.0             4.0     4.0                3.7   \n",
       "3         NaN  ...          3.3             4.0     4.0                3.7   \n",
       "4         NaN  ...          4.0             4.0     4.0                4.0   \n",
       "5         NaN  ...          3.3             4.0     4.0                3.7   \n",
       "6         NaN  ...          0.0             3.3     3.7                3.0   \n",
       "7         NaN  ...          3.0             3.7     3.7                3.3   \n",
       "8         NaN  ...          NaN             NaN     NaN                NaN   \n",
       "9         NaN  ...          4.0             3.7     3.7                3.7   \n",
       "10        NaN  ...          3.3             4.0     4.0                0.0   \n",
       "11        NaN  ...          4.0             NaN     NaN                3.7   \n",
       "12        NaN  ...          4.0             NaN     NaN                4.0   \n",
       "13        NaN  ...          3.7             3.7     4.0                3.7   \n",
       "14        NaN  ...          4.0             4.0     4.0                4.0   \n",
       "15        NaN  ...          3.3             4.0     4.0                0.0   \n",
       "16        NaN  ...          0.0             3.3     3.7                3.3   \n",
       "17        NaN  ...          3.0             3.7     4.0                3.7   \n",
       "18        NaN  ...          4.0             3.7     4.0                3.7   \n",
       "19        NaN  ...          3.3             4.0     4.0                3.3   \n",
       "20        NaN  ...          3.3             3.7     3.7                3.3   \n",
       "21        NaN  ...          4.0             NaN     NaN                4.0   \n",
       "22        NaN  ...          4.0             4.0     4.0                4.0   \n",
       "23        NaN  ...          NaN             4.0     4.0                4.0   \n",
       "24        NaN  ...          4.0             4.0     4.0                3.7   \n",
       "25        NaN  ...          3.7             4.0     4.0                3.7   \n",
       "26        NaN  ...          3.7             3.7     4.0                3.7   \n",
       "27        NaN  ...          4.0             4.0     4.0                3.7   \n",
       "28        NaN  ...          4.0             4.0     4.0                3.7   \n",
       "29        NaN  ...          3.3             4.0     4.0                4.0   \n",
       "..        ...  ...          ...             ...     ...                ...   \n",
       "223      -2.0  ...          3.7             4.0     3.7                4.0   \n",
       "224       1.0  ...          3.7             4.0     3.3                3.3   \n",
       "225      -3.0  ...          3.7             4.0     3.7                3.7   \n",
       "226      -2.0  ...          4.0             3.3     3.7                3.3   \n",
       "227      -3.0  ...          3.3             3.3     3.7                3.3   \n",
       "228      -2.0  ...          4.0             3.7     3.7                4.0   \n",
       "229      -3.0  ...          NaN             NaN     NaN                NaN   \n",
       "230       0.0  ...          NaN             NaN     NaN                NaN   \n",
       "231      -2.0  ...          3.3             3.7     3.7                3.3   \n",
       "232      -3.0  ...          3.7             4.0     0.0                3.7   \n",
       "233      -2.0  ...          4.0             3.7     3.7                3.7   \n",
       "234      -2.0  ...          3.3             3.7     4.0                3.3   \n",
       "235      -2.0  ...          3.7             3.7     3.7                4.0   \n",
       "236      -2.0  ...          3.7             4.0     4.0                4.0   \n",
       "237      -2.0  ...          3.0             3.3     3.0                4.0   \n",
       "238      -2.0  ...          0.0             3.7     3.3                3.3   \n",
       "239      -1.0  ...          3.7             3.7     3.7                3.7   \n",
       "240      -2.0  ...          4.0             4.0     4.0                3.7   \n",
       "241      -2.0  ...          4.0             3.7     4.0                3.7   \n",
       "242      -2.0  ...          NaN             NaN     NaN                NaN   \n",
       "243      -3.0  ...          4.0             4.0     4.0                4.0   \n",
       "244      -3.0  ...          NaN             NaN     NaN                NaN   \n",
       "245      -3.0  ...          3.7             3.7     4.0                4.0   \n",
       "246      -2.0  ...          2.7             3.3     3.0                3.7   \n",
       "247      -3.0  ...          3.0             2.7     3.0                3.3   \n",
       "248      -2.0  ...          3.7             3.3     4.0                3.3   \n",
       "249       0.0  ...          3.7             3.7     4.0                4.0   \n",
       "250       1.0  ...          3.7             4.0     3.7                4.0   \n",
       "251       1.0  ...          3.7             3.3     3.3                3.7   \n",
       "252       NaN  ...          NaN             NaN     NaN                NaN   \n",
       "\n",
       "     ClassStatMech2GPA  DateOfGradProgramDeclaration  YearObtainedBS  \\\n",
       "0                  3.7                     12/1/2016       6/29/2017   \n",
       "1                  3.7                     12/1/2016       6/29/2017   \n",
       "2                  3.7                     12/6/2016      12/27/2016   \n",
       "3                  3.7                    12/15/2016       6/12/2014   \n",
       "4                  4.0                    12/12/2016       5/21/2017   \n",
       "5                  3.7                    12/12/2016      12/14/2012   \n",
       "6                  3.0                    12/13/2016      12/13/2008   \n",
       "7                  3.3                    12/16/2016       5/12/2012   \n",
       "8                  NaN                    11/28/2016       6/20/2012   \n",
       "9                  3.7                    11/29/2016        7/1/2017   \n",
       "10                 0.0                    12/12/2016        9/9/2011   \n",
       "11                 3.7                    11/29/2016       6/19/2017   \n",
       "12                 4.0                    11/22/2016       5/21/2017   \n",
       "13                 3.7                    11/29/2016       6/30/2017   \n",
       "14                 4.0                    11/21/2016      10/15/2015   \n",
       "15                 0.0                      6/9/2016      12/12/2015   \n",
       "16                 3.3                      1/5/2016        5/2/2015   \n",
       "17                 3.7                    12/16/2016      12/18/2015   \n",
       "18                 3.7                    12/14/2016       5/15/2017   \n",
       "19                 3.3                    11/30/2016        6/1/2013   \n",
       "20                 3.3                    11/28/2016       6/16/2017   \n",
       "21                 4.0                    12/12/2016       5/13/2017   \n",
       "22                 4.0                     12/7/2015       5/30/2012   \n",
       "23                 4.0                    11/29/2016       5/14/2017   \n",
       "24                 3.7                    12/20/2016        7/1/2013   \n",
       "25                 3.7                     12/5/2016        5/1/2017   \n",
       "26                 3.7                    11/25/2016        5/5/2017   \n",
       "27                 3.7                     12/9/2016       5/12/2017   \n",
       "28                 3.7                     12/9/2016       5/12/2017   \n",
       "29                 4.0                    11/28/2016       6/25/2014   \n",
       "..                 ...                           ...             ...   \n",
       "223                3.7                           NaN             NaN   \n",
       "224                3.3                           NaN             NaN   \n",
       "225                4.0                           NaN             NaN   \n",
       "226                3.7                           NaN             NaN   \n",
       "227                4.0                           NaN             NaN   \n",
       "228                3.7                           NaN             NaN   \n",
       "229                NaN                           NaN             NaN   \n",
       "230                NaN                           NaN             NaN   \n",
       "231                3.3                           NaN             NaN   \n",
       "232                4.0                           NaN             NaN   \n",
       "233                3.7                           NaN             NaN   \n",
       "234                3.3                           NaN             NaN   \n",
       "235                4.0                           NaN             NaN   \n",
       "236                4.0                           NaN             NaN   \n",
       "237                3.3                           NaN             NaN   \n",
       "238                3.3                           NaN             NaN   \n",
       "239                3.7                           NaN             NaN   \n",
       "240                4.0                           NaN             NaN   \n",
       "241                4.0                           NaN             NaN   \n",
       "242                NaN                           NaN             NaN   \n",
       "243                4.0                           NaN             NaN   \n",
       "244                NaN                           NaN             NaN   \n",
       "245                3.7                           NaN             NaN   \n",
       "246                3.0                           NaN             NaN   \n",
       "247                3.3                           NaN             NaN   \n",
       "248                4.0                           NaN             NaN   \n",
       "249                4.0                           NaN             NaN   \n",
       "250                3.7                           NaN             NaN   \n",
       "251                4.0                           NaN             NaN   \n",
       "252                NaN                           NaN             NaN   \n",
       "\n",
       "      LaterDate  FirstTermOfGradClasses  Consent  \n",
       "0     6/29/2017                  1178.0      1.0  \n",
       "1     6/29/2017                  1178.0      1.0  \n",
       "2    12/27/2016                  1178.0      1.0  \n",
       "3    12/15/2016                  1178.0      1.0  \n",
       "4     5/21/2017                  1178.0      1.0  \n",
       "5    12/12/2016                  1178.0      NaN  \n",
       "6    12/13/2016                  1178.0      NaN  \n",
       "7    12/16/2016                  1178.0      1.0  \n",
       "8    11/28/2016                  1178.0      1.0  \n",
       "9      7/1/2017                  1178.0      1.0  \n",
       "10   12/12/2016                  1178.0      1.0  \n",
       "11    6/19/2017                  1178.0      1.0  \n",
       "12    5/21/2017                  1178.0      1.0  \n",
       "13    6/30/2017                  1178.0      1.0  \n",
       "14   11/21/2016                  1178.0      1.0  \n",
       "15     6/9/2016                  1168.0      NaN  \n",
       "16     1/5/2016                  1178.0      1.0  \n",
       "17   12/16/2016                  1178.0      NaN  \n",
       "18    5/15/2017                  1178.0      1.0  \n",
       "19   11/30/2016                  1178.0      1.0  \n",
       "20    6/16/2017                  1178.0      1.0  \n",
       "21    5/13/2017                  1178.0      1.0  \n",
       "22    12/7/2015                  1168.0      1.0  \n",
       "23    5/14/2017                  1178.0      NaN  \n",
       "24   12/20/2016                  1178.0      NaN  \n",
       "25     5/1/2017                  1178.0      1.0  \n",
       "26     5/5/2017                  1178.0      1.0  \n",
       "27    5/12/2017                  1178.0      1.0  \n",
       "28    5/12/2017                  1178.0      1.0  \n",
       "29   11/28/2016                  1178.0      1.0  \n",
       "..          ...                     ...      ...  \n",
       "223         NaN                     NaN      NaN  \n",
       "224         NaN                     NaN      NaN  \n",
       "225         NaN                     NaN      NaN  \n",
       "226         NaN                     NaN      NaN  \n",
       "227         NaN                     NaN      NaN  \n",
       "228         NaN                     NaN      NaN  \n",
       "229         NaN                     NaN      NaN  \n",
       "230         NaN                     NaN      NaN  \n",
       "231         NaN                     NaN      NaN  \n",
       "232         NaN                     NaN      NaN  \n",
       "233         NaN                     NaN      NaN  \n",
       "234         NaN                     NaN      NaN  \n",
       "235         NaN                     NaN      NaN  \n",
       "236         NaN                     NaN      NaN  \n",
       "237         NaN                     NaN      NaN  \n",
       "238         NaN                     NaN      NaN  \n",
       "239         NaN                     NaN      NaN  \n",
       "240         NaN                     NaN      NaN  \n",
       "241         NaN                     NaN      NaN  \n",
       "242         NaN                     NaN      NaN  \n",
       "243         NaN                     NaN      NaN  \n",
       "244         NaN                     NaN      NaN  \n",
       "245         NaN                     NaN      NaN  \n",
       "246         NaN                     NaN      NaN  \n",
       "247         NaN                     NaN      NaN  \n",
       "248         NaN                     NaN      NaN  \n",
       "249         NaN                     NaN      NaN  \n",
       "250         NaN                     NaN      NaN  \n",
       "251         NaN                     NaN      NaN  \n",
       "252         NaN                     NaN      NaN  \n",
       "\n",
       "[253 rows x 240 columns]>"
      ]
     },
     "execution_count": 2,
     "metadata": {},
     "output_type": "execute_result"
    }
   ],
   "source": [
    "## libraries to import\n",
    "\n",
    "import pandas as pd\n",
    "import numpy as np\n",
    "import seaborn as sns\n",
    "import matplotlib.pyplot as plt\n",
    "from factor_analyzer import FactorAnalyzer\n",
    "from factor_analyzer.factor_analyzer import calculate_bartlett_sphericity\n",
    "from factor_analyzer.factor_analyzer import calculate_kmo\n",
    "\n",
    "# read in anonymized data\n",
    "df = pd.read_csv('C:\\PER\\Grad retention\\Data_Cleaned\\DataSetFlatSheet_ABS_CleanedAndCoded.csv')\n",
    "\n",
    "# to view sample of the data, un-comment following line\n",
    "#df.head"
   ]
  },
  {
   "cell_type": "code",
   "execution_count": 3,
   "metadata": {
    "collapsed": true
   },
   "outputs": [],
   "source": [
    "def test_load(loadings): # test loadings (factor analysis) to see if loading value is greater than 0.33 (cutoff)\n",
    "    return 1 * (abs(loadings)>=0.3)\n",
    "\n",
    "#Cronbach's Alpha function\n",
    "def CronbachAlpha(items):\n",
    "    items = pd.DataFrame(items)\n",
    "    items_count = items.shape[1]\n",
    "    variance_sum = float(items.var(axis=0, ddof=1).sum())\n",
    "    total_var = float(items.sum(axis=1).var(ddof=1))\n",
    "    \n",
    "    return (items_count / float(items_count - 1) *\n",
    "            (1 - variance_sum / total_var))"
   ]
  },
  {
   "cell_type": "code",
   "execution_count": 4,
   "metadata": {},
   "outputs": [
    {
     "data": {
      "image/png": "[encoded data removed]",
      "text/plain": [
       "<Figure size 432x288 with 1 Axes>"
      ]
     },
     "metadata": {
      "needs_background": "light"
     },
     "output_type": "display_data"
    }
   ],
   "source": [
    "# view how many students make up each population in dataset (coded A, B, C)\n",
    "\n",
    "sns.countplot(x='Pop', data = df)\n",
    "plt.show()"
   ]
  },
  {
   "cell_type": "code",
   "execution_count": 5,
   "metadata": {},
   "outputs": [
    {
     "data": {
      "image/png": "[encoded data removed]",
      "text/plain": [
       "<Figure size 432x288 with 1 Axes>"
      ]
     },
     "metadata": {
      "needs_background": "light"
     },
     "output_type": "display_data"
    }
   ],
   "source": [
    "# see population representation by year of data collection\n",
    "\n",
    "sns.countplot(x='Pop', hue = 'Year',data = df)\n",
    "plt.show()"
   ]
  },
  {
   "cell_type": "code",
   "execution_count": 6,
   "metadata": {
    "collapsed": true
   },
   "outputs": [],
   "source": [
    "# isolate 2018 data (latest iteration of survey administration)\n",
    "\n",
    "df2018 = df[df.Year == 2018]"
   ]
  },
  {
   "cell_type": "code",
   "execution_count": 7,
   "metadata": {},
   "outputs": [
    {
     "data": {
      "text/plain": [
       "['SID',\n",
       " 'Pop',\n",
       " 'Year',\n",
       " 'Uni',\n",
       " 'SSB.1_1',\n",
       " 'SSB.1_2',\n",
       " 'SSB.1_3',\n",
       " 'SSB.1_4',\n",
       " 'SSB.1_5',\n",
       " 'SSB.1_6R',\n",
       " 'SSB.1_6',\n",
       " 'SSB.1_7R',\n",
       " 'SSB.1_7',\n",
       " 'SSB.1_8R',\n",
       " 'SSB.1_8',\n",
       " 'SSB.1_9R',\n",
       " 'SSB.1_9',\n",
       " 'SSB.1_10R',\n",
       " 'SSB.1_10',\n",
       " 'Mean_SSB',\n",
       " 'SD_SSB',\n",
       " 'CCV.1_1',\n",
       " 'CCV.1_2',\n",
       " 'CCV.1_3',\n",
       " 'CCV.1_4',\n",
       " 'CCV.1_5',\n",
       " 'CCV.1_6',\n",
       " 'CCV.1_7',\n",
       " 'Mean_CCV',\n",
       " 'SD_CCV',\n",
       " 'RV.2_1',\n",
       " 'RV.2_2',\n",
       " 'RV.2_3',\n",
       " 'RV.2_4',\n",
       " 'RV.2_5',\n",
       " 'RV.2_6',\n",
       " 'RV.2_7',\n",
       " 'Mean_RV',\n",
       " 'SD_RV',\n",
       " 'DBel.1_1',\n",
       " 'DBel.1_2R',\n",
       " 'DBel.1_2',\n",
       " 'DBel.1_3',\n",
       " 'DBel.1_4R',\n",
       " 'DBel.1_4',\n",
       " 'DBel.1_5',\n",
       " 'DBel.1_6',\n",
       " 'DBel.1_7R',\n",
       " 'Dbel.1_7',\n",
       " 'DBel.1_8',\n",
       " 'DBel.1_9',\n",
       " 'DBel.1_10',\n",
       " 'DBel.1_11',\n",
       " 'Mean_DBel',\n",
       " 'SD_DBel',\n",
       " 'Q5.2',\n",
       " 'InResearchGroup',\n",
       " 'RBel.3_1',\n",
       " 'RBel.3_2R',\n",
       " 'RBel.3_2',\n",
       " 'RBel.3_3',\n",
       " 'RBel.3_4R',\n",
       " 'RBel.3_4',\n",
       " 'RBel.3_5',\n",
       " 'RBel.3_6',\n",
       " 'RBel.3_7R',\n",
       " 'RBel.3_7',\n",
       " 'RBel.3_8',\n",
       " 'RBel.3_9',\n",
       " 'RBel.3_10',\n",
       " 'RBel.3_11',\n",
       " 'Mean_RBel',\n",
       " 'SD_RBel',\n",
       " 'GO.Ma_1',\n",
       " 'GO.Ma_2',\n",
       " 'GO.Ma1_3',\n",
       " 'Mean_GO.Ma',\n",
       " 'SD_GO.Ma',\n",
       " 'GO.PA_1',\n",
       " 'GO.PA_2',\n",
       " 'GO.PA_3',\n",
       " 'Mean_GO.PA',\n",
       " 'SD_GO.PA',\n",
       " 'CGO.Ma_1',\n",
       " 'CGO.Ma_2',\n",
       " 'CGO.Ma1_3',\n",
       " 'Mean_CGO.Ma',\n",
       " 'SD_CGO.Ma',\n",
       " 'CGO.PA_1',\n",
       " 'CGO.PA_2',\n",
       " 'CGO.PA_3',\n",
       " 'Mean_CGO.PA',\n",
       " 'SD_CGO.PA',\n",
       " 'PF_1',\n",
       " 'PF_2',\n",
       " 'PF_3',\n",
       " 'PF_4',\n",
       " 'PF_5',\n",
       " 'PF_6',\n",
       " 'PF_7',\n",
       " 'PF_8',\n",
       " 'Mean_PF',\n",
       " 'Mean_PF.1',\n",
       " 'PId_1',\n",
       " 'PId_2',\n",
       " 'PId_3R',\n",
       " 'PId_3',\n",
       " 'PId_4',\n",
       " 'PId_5',\n",
       " 'PId_6',\n",
       " 'PId_7',\n",
       " 'PId_8',\n",
       " 'PId_9',\n",
       " 'PId_10',\n",
       " 'PId_11',\n",
       " 'Eff_1',\n",
       " 'Eff_2',\n",
       " 'Eff_3',\n",
       " 'Eff_4',\n",
       " 'Eff_5',\n",
       " 'Mean_Eff',\n",
       " 'SD_Eff',\n",
       " 'CCEff_1',\n",
       " 'CCEff_2',\n",
       " 'CCEff_3',\n",
       " 'CCEff_4',\n",
       " 'CCEff_5',\n",
       " 'Mean_CCEff',\n",
       " 'SD_CCEff',\n",
       " 'Path.CI_1',\n",
       " 'Path.CI_2',\n",
       " 'Path.CI_3',\n",
       " 'Path.CI_4',\n",
       " 'Path.CI_5',\n",
       " 'Path.CI_6',\n",
       " 'Path.CI_7',\n",
       " 'Path.CI_8',\n",
       " 'Path.CI_9',\n",
       " 'Path.CI_10',\n",
       " 'Path.CI_11',\n",
       " 'Path.CI_12',\n",
       " 'Path.CI_13',\n",
       " 'Path.CI_14',\n",
       " 'Path.CO_1',\n",
       " 'Path.CO_2',\n",
       " 'Path.CO_3',\n",
       " 'Path.CO_4',\n",
       " 'Path.CO_5',\n",
       " 'TimeToPhD',\n",
       " 'Unnamed: 149',\n",
       " 'AltPath.SwitchRG',\n",
       " 'AltPath.FailCandidacy',\n",
       " 'AltPath.RetookCourse',\n",
       " 'AltPath.SwitchRG_PoorFit',\n",
       " 'AltPath.SwitchRG_InterestChanged',\n",
       " 'AltPath.SwitchRG_Funding',\n",
       " 'AltPath.SwitchRG_Other',\n",
       " 'AltPath.FailCandidacy_1',\n",
       " 'AltPath.FailCandidacy_2',\n",
       " 'AltPath.FailCandidacy_3',\n",
       " 'AltPath.FailCandidacy_4',\n",
       " 'AltPath.FailCandidacy_5',\n",
       " 'AltPath.RetookCourse_1',\n",
       " 'AltPath.RetookCourse_2',\n",
       " 'AltPath.RetookCourse_3',\n",
       " 'AltPath.RetookCourse_4',\n",
       " 'AltPath.RetookCourse_5',\n",
       " 'LHap_1',\n",
       " 'LHap_2',\n",
       " 'LHap_3',\n",
       " 'LHap_4',\n",
       " 'LHap_5',\n",
       " 'Mean_LHap',\n",
       " 'SD_LHap',\n",
       " 'PhDHap.Sat_1',\n",
       " 'PhDHap.Sat_2',\n",
       " 'PhDHap.Sat_3',\n",
       " 'PhDHap.Sat_4',\n",
       " 'PhDHap.Sat_5',\n",
       " 'Mean_PhDHap.Sat',\n",
       " 'SD_PhDHap.Sat',\n",
       " 'PhDHap.Rec_1',\n",
       " 'PhDHap.Rec_2',\n",
       " 'PhDHap.Rec_3',\n",
       " 'PhDHap.Rec_4',\n",
       " 'PhDHap.Rec_5',\n",
       " 'Mean_PhDHap.Rec',\n",
       " 'SD_PhDHap.Rec',\n",
       " 'Cost.TEff_1',\n",
       " 'Cost.TEff_2',\n",
       " 'Cost.TEff_3',\n",
       " 'Cost.TEff_4',\n",
       " 'Cost.TEff_5',\n",
       " 'Mean_Cost.TEff',\n",
       " 'SD_Cost.TEff',\n",
       " 'Cost.OEff_1',\n",
       " 'Cost.OEff_2',\n",
       " 'Cost.OEff_3',\n",
       " 'Cost.OEff_4',\n",
       " 'Mean_Cost.OEff',\n",
       " 'SD_Cost.OEff',\n",
       " 'Cost.LVA_1',\n",
       " 'Cost.LVA_2',\n",
       " 'Cost.LVA_3',\n",
       " 'Cost.LVA_4',\n",
       " 'Mean_Cost.LVA',\n",
       " 'SD_Cost.LVA',\n",
       " 'Cost.Emo_1',\n",
       " 'Cost.Emo_2',\n",
       " 'Cost.Emo_3',\n",
       " 'Cost.Emo_4',\n",
       " 'Cost.Emo_5',\n",
       " 'Cost.Emo_6',\n",
       " 'Mean_Cost.Emo',\n",
       " 'SD_Cost.Emo',\n",
       " 'Mean_Cost',\n",
       " 'SD_Cost',\n",
       " 'Gender',\n",
       " 'gen',\n",
       " 'AfAmer_Black',\n",
       " 'Asian_AsianAmer',\n",
       " 'Hisp_Lat',\n",
       " 'NatAmer',\n",
       " 'White',\n",
       " 'OtherRaceEth',\n",
       " 'HighestEdInFam',\n",
       " 'TypeOfAppt',\n",
       " 'FQ16.3_0',\n",
       " 'TA',\n",
       " 'Quantum1GPA',\n",
       " 'Quantum2GPA',\n",
       " 'MathMethodsGPA',\n",
       " 'EM1GPA',\n",
       " 'ClassStatMech1GPA',\n",
       " 'ClassStatMech2GPA',\n",
       " 'DateOfGradProgramDeclaration',\n",
       " 'YearObtainedBS',\n",
       " 'LaterDate',\n",
       " 'FirstTermOfGradClasses',\n",
       " 'Consent']"
      ]
     },
     "execution_count": 7,
     "metadata": {},
     "output_type": "execute_result"
    }
   ],
   "source": [
    "# check column names\n",
    "\n",
    "list(df.columns)"
   ]
  },
  {
   "cell_type": "markdown",
   "metadata": {},
   "source": [
    "# Factor Analyses"
   ]
  },
  {
   "cell_type": "markdown",
   "metadata": {},
   "source": [
    "## Social Supports and Barriers (SSB)"
   ]
  },
  {
   "cell_type": "code",
   "execution_count": 8,
   "metadata": {
    "scrolled": true
   },
   "outputs": [
    {
     "name": "stderr",
     "output_type": "stream",
     "text": [
      "c:\\python3\\lib\\site-packages\\ipykernel_launcher.py:2: SettingWithCopyWarning: \n",
      "A value is trying to be set on a copy of a slice from a DataFrame\n",
      "\n",
      "See the caveats in the documentation: http://pandas.pydata.org/pandas-docs/stable/indexing.html#indexing-view-versus-copy\n",
      "  \n"
     ]
    },
    {
     "data": {
      "text/html": [
       "<div>\n",
       "<style scoped>\n",
       "    .dataframe tbody tr th:only-of-type {\n",
       "        vertical-align: middle;\n",
       "    }\n",
       "\n",
       "    .dataframe tbody tr th {\n",
       "        vertical-align: top;\n",
       "    }\n",
       "\n",
       "    .dataframe thead th {\n",
       "        text-align: right;\n",
       "    }\n",
       "</style>\n",
       "<table border=\"1\" class=\"dataframe\">\n",
       "  <thead>\n",
       "    <tr style=\"text-align: right;\">\n",
       "      <th></th>\n",
       "      <th>SSB.1_1</th>\n",
       "      <th>SSB.1_2</th>\n",
       "      <th>SSB.1_3</th>\n",
       "      <th>SSB.1_4</th>\n",
       "      <th>SSB.1_5</th>\n",
       "      <th>SSB.1_6</th>\n",
       "      <th>SSB.1_7</th>\n",
       "      <th>SSB.1_8</th>\n",
       "      <th>SSB.1_9</th>\n",
       "      <th>SSB.1_10</th>\n",
       "    </tr>\n",
       "  </thead>\n",
       "  <tbody>\n",
       "    <tr>\n",
       "      <th>114</th>\n",
       "      <td>1.0</td>\n",
       "      <td>3.0</td>\n",
       "      <td>3.0</td>\n",
       "      <td>2.0</td>\n",
       "      <td>3.0</td>\n",
       "      <td>3.0</td>\n",
       "      <td>2.0</td>\n",
       "      <td>2.0</td>\n",
       "      <td>2.0</td>\n",
       "      <td>3.0</td>\n",
       "    </tr>\n",
       "    <tr>\n",
       "      <th>115</th>\n",
       "      <td>2.0</td>\n",
       "      <td>3.0</td>\n",
       "      <td>3.0</td>\n",
       "      <td>3.0</td>\n",
       "      <td>3.0</td>\n",
       "      <td>1.0</td>\n",
       "      <td>-2.0</td>\n",
       "      <td>1.0</td>\n",
       "      <td>1.0</td>\n",
       "      <td>2.0</td>\n",
       "    </tr>\n",
       "    <tr>\n",
       "      <th>116</th>\n",
       "      <td>-2.0</td>\n",
       "      <td>2.0</td>\n",
       "      <td>1.0</td>\n",
       "      <td>1.0</td>\n",
       "      <td>3.0</td>\n",
       "      <td>3.0</td>\n",
       "      <td>3.0</td>\n",
       "      <td>-1.0</td>\n",
       "      <td>3.0</td>\n",
       "      <td>3.0</td>\n",
       "    </tr>\n",
       "    <tr>\n",
       "      <th>117</th>\n",
       "      <td>-1.0</td>\n",
       "      <td>0.0</td>\n",
       "      <td>1.0</td>\n",
       "      <td>2.0</td>\n",
       "      <td>0.0</td>\n",
       "      <td>1.0</td>\n",
       "      <td>-1.0</td>\n",
       "      <td>1.0</td>\n",
       "      <td>1.0</td>\n",
       "      <td>1.0</td>\n",
       "    </tr>\n",
       "    <tr>\n",
       "      <th>118</th>\n",
       "      <td>0.0</td>\n",
       "      <td>2.0</td>\n",
       "      <td>2.0</td>\n",
       "      <td>2.0</td>\n",
       "      <td>2.0</td>\n",
       "      <td>2.0</td>\n",
       "      <td>0.0</td>\n",
       "      <td>0.0</td>\n",
       "      <td>1.0</td>\n",
       "      <td>1.0</td>\n",
       "    </tr>\n",
       "  </tbody>\n",
       "</table>\n",
       "</div>"
      ],
      "text/plain": [
       "     SSB.1_1  SSB.1_2  SSB.1_3  SSB.1_4  SSB.1_5  SSB.1_6  SSB.1_7  SSB.1_8  \\\n",
       "114      1.0      3.0      3.0      2.0      3.0      3.0      2.0      2.0   \n",
       "115      2.0      3.0      3.0      3.0      3.0      1.0     -2.0      1.0   \n",
       "116     -2.0      2.0      1.0      1.0      3.0      3.0      3.0     -1.0   \n",
       "117     -1.0      0.0      1.0      2.0      0.0      1.0     -1.0      1.0   \n",
       "118      0.0      2.0      2.0      2.0      2.0      2.0      0.0      0.0   \n",
       "\n",
       "     SSB.1_9  SSB.1_10  \n",
       "114      2.0       3.0  \n",
       "115      1.0       2.0  \n",
       "116      3.0       3.0  \n",
       "117      1.0       1.0  \n",
       "118      1.0       1.0  "
      ]
     },
     "execution_count": 8,
     "metadata": {},
     "output_type": "execute_result"
    }
   ],
   "source": [
    "# create subset of data including only SSB measures\n",
    "\n",
    "SSB = df[['SSB.1_1','SSB.1_2','SSB.1_3','SSB.1_4','SSB.1_5','SSB.1_6','SSB.1_7','SSB.1_8','SSB.1_9','SSB.1_10']]\n",
    "\n",
    "#most students answered all items, so we will simply drop those who didn't answer some questions\n",
    "SSB.dropna(inplace=True) \n",
    "\n",
    "SSB.head()"
   ]
  },
  {
   "cell_type": "markdown",
   "metadata": {},
   "source": [
    " Check factorability of SSB using: <br>\n",
    " - <b>Bartlett's Test</b> (checks whether or not observed variables intercorrelate at all using observed correlation matrix vs identity matrix) <br>\n",
    " - <b>Kaiser-Meyer-Olkin Test </b>(measures the suitability of data for factor analysis. Estimates proportion of variance among all obersved variable. Lower porportion id more suitable for factor analysis. KMO values range between 0 and 1. Value of KMO less than 0.6 is considered inadequate.)"
   ]
  },
  {
   "cell_type": "code",
   "execution_count": 9,
   "metadata": {},
   "outputs": [
    {
     "data": {
      "text/plain": [
       "(333.1633174705562, 5.512788941521283e-46)"
      ]
     },
     "execution_count": 9,
     "metadata": {},
     "output_type": "execute_result"
    }
   ],
   "source": [
    "# Bartlett's Test\n",
    "\n",
    "chi_square_value, p_value = calculate_bartlett_sphericity(SSB)\n",
    "chi_square_value, p_value"
   ]
  },
  {
   "cell_type": "markdown",
   "metadata": {},
   "source": [
    "The Bartlett test found a p-value of less than 0.05. The statistical significance of this test means that *the observed correlation matrix is not an identity matrix.*"
   ]
  },
  {
   "cell_type": "code",
   "execution_count": 10,
   "metadata": {},
   "outputs": [
    {
     "data": {
      "text/plain": [
       "0.7880388882944855"
      ]
     },
     "execution_count": 10,
     "metadata": {},
     "output_type": "execute_result"
    }
   ],
   "source": [
    "# KMO Test\n",
    "\n",
    "kmo_all, kmo_model = calculate_kmo(SSB)\n",
    "kmo_model"
   ]
  },
  {
   "cell_type": "markdown",
   "metadata": {},
   "source": [
    "The overall KMO for the SSB data is 0.79, which is very good. This value indicates I may safely proceed with the planned factor analysis."
   ]
  },
  {
   "cell_type": "markdown",
   "metadata": {},
   "source": [
    "<b>Choosing the number of factors: </b><br>\n",
    "Use both the Kaiser criterion and scree plot (both are based on eigenvalues)"
   ]
  },
  {
   "cell_type": "code",
   "execution_count": 11,
   "metadata": {
    "scrolled": false
   },
   "outputs": [
    {
     "name": "stdout",
     "output_type": "stream",
     "text": [
      "[[-0.11735541  0.86992285 -0.09431012 -0.07095859 -0.06274422]\n",
      " [ 0.07863989  0.55297363 -0.03354806  0.03579023  0.4227545 ]\n",
      " [-0.20085527  0.16770418  0.77450138  0.03275726  0.12943376]\n",
      " [ 0.1491627   0.36249826  0.30683002  0.04983793  0.06329863]\n",
      " [ 0.36192092  0.24199492  0.05179398 -0.04581031  0.54346805]\n",
      " [ 0.58078304 -0.23593914 -0.01327011 -0.03972469  0.3873972 ]\n",
      " [-0.00726801 -0.06919512 -0.00810943  1.01649205 -0.045462  ]\n",
      " [ 0.02614041 -0.1315226   0.6763422  -0.0256152  -0.05258681]\n",
      " [ 0.74721025 -0.01144539  0.19973962 -0.02700075 -0.09310379]\n",
      " [ 0.71455484  0.1027913  -0.17921613  0.04997568  0.08239937]]\n"
     ]
    }
   ],
   "source": [
    "#Create factor anlysis object and perform factor analysis\n",
    "fa = FactorAnalyzer(n_factors=5)\n",
    "\n",
    "#find factor loadings and view them\n",
    "fa.fit(SSB)\n",
    "print(fa.loadings_)"
   ]
  },
  {
   "cell_type": "markdown",
   "metadata": {},
   "source": [
    "These factor loadings are correlation coefficients between observed variables and latent common factors"
   ]
  },
  {
   "cell_type": "code",
   "execution_count": 12,
   "metadata": {},
   "outputs": [
    {
     "data": {
      "text/plain": [
       "array([[0, 1, 0, 0, 0],\n",
       "       [0, 1, 0, 0, 1],\n",
       "       [0, 0, 1, 0, 0],\n",
       "       [0, 1, 1, 0, 0],\n",
       "       [1, 0, 0, 0, 1],\n",
       "       [1, 0, 0, 0, 1],\n",
       "       [0, 0, 0, 1, 0],\n",
       "       [0, 0, 1, 0, 0],\n",
       "       [1, 0, 0, 0, 0],\n",
       "       [1, 0, 0, 0, 0]])"
      ]
     },
     "execution_count": 12,
     "metadata": {},
     "output_type": "execute_result"
    }
   ],
   "source": [
    "test_load(fa.loadings_)\n",
    "\n",
    "# this \"test\" assesses if each loading is above or below our cutoff value assigned earlier "
   ]
  },
  {
   "cell_type": "code",
   "execution_count": 13,
   "metadata": {},
   "outputs": [
    {
     "name": "stdout",
     "output_type": "stream",
     "text": [
      "[3.73979997 1.65293511 1.23553598 0.8460139  0.59024316 0.52804072\n",
      " 0.43069664 0.37066423 0.36346925 0.24260104]\n"
     ]
    }
   ],
   "source": [
    "ev, v = fa.get_eigenvalues()\n",
    "print(ev)"
   ]
  },
  {
   "cell_type": "code",
   "execution_count": 14,
   "metadata": {
    "scrolled": true
   },
   "outputs": [
    {
     "data": {
      "image/png": "[encoded data removed]",
      "text/plain": [
       "<Figure size 432x288 with 1 Axes>"
      ]
     },
     "metadata": {
      "needs_background": "light"
     },
     "output_type": "display_data"
    }
   ],
   "source": [
    "# scree plot\n",
    "\n",
    "plt.scatter(range(1,SSB.shape[1]+1),ev)\n",
    "plt.plot(range(1,SSB.shape[1]+1),ev)\n",
    "plt.title('Scree Plot')\n",
    "plt.xlabel('Factors')\n",
    "plt.ylabel('Eigenvalue')\n",
    "plt.grid()\n",
    "plt.hlines(1, xmin=0, xmax = 10,linestyles='dashed', color = 'red')\n",
    "plt.savefig(r'C:\\Users\\abyru\\Python\\Projects\\PER\\GradRetention\\Plots\\Scree\\SSB_scree.png')\n",
    "plt.show()"
   ]
  },
  {
   "cell_type": "markdown",
   "metadata": {},
   "source": [
    "These eigenvalues are measures of how much of the variance of the observed variables a factor explains. If a factor has an eigenvalue > 1, the factor explains more variance than a single observed variable."
   ]
  },
  {
   "cell_type": "code",
   "execution_count": 15,
   "metadata": {
    "scrolled": true
   },
   "outputs": [
    {
     "data": {
      "text/plain": [
       "array([[-0.13419934,  0.69924712,  0.03295238],\n",
       "       [ 0.31675493,  0.76280063,  0.14225748],\n",
       "       [ 0.0557964 ,  0.45442893,  0.71768243],\n",
       "       [ 0.24881116,  0.47558725,  0.44077315],\n",
       "       [ 0.64103665,  0.5434605 ,  0.19701671],\n",
       "       [ 0.74575331, -0.00107928,  0.08805161],\n",
       "       [ 0.09238679,  0.01069526,  0.3639838 ],\n",
       "       [ 0.1337427 ,  0.04793859,  0.57857471],\n",
       "       [ 0.65750066,  0.02870647,  0.34850628],\n",
       "       [ 0.66854658,  0.10433476,  0.09493701]])"
      ]
     },
     "execution_count": 15,
     "metadata": {},
     "output_type": "execute_result"
    }
   ],
   "source": [
    "# perform factor analysis using 3 factors (since factors 1-3 explain more variance than a single observed variable)\n",
    "\n",
    "fa=FactorAnalyzer(rotation='varimax',n_factors=3)\n",
    "fa.fit(SSB)\n",
    "fa.loadings_"
   ]
  },
  {
   "cell_type": "code",
   "execution_count": 16,
   "metadata": {},
   "outputs": [
    {
     "data": {
      "text/plain": [
       "array([[0, 1, 0],\n",
       "       [1, 1, 0],\n",
       "       [0, 1, 1],\n",
       "       [0, 1, 1],\n",
       "       [1, 1, 0],\n",
       "       [1, 0, 0],\n",
       "       [0, 0, 1],\n",
       "       [0, 0, 1],\n",
       "       [1, 0, 1],\n",
       "       [1, 0, 0]])"
      ]
     },
     "execution_count": 16,
     "metadata": {},
     "output_type": "execute_result"
    }
   ],
   "source": [
    "# which factors do these items load onto? Each column represents a factor, each row represents a scale item (observed)\n",
    "test_load(fa.loadings_)"
   ]
  },
  {
   "cell_type": "code",
   "execution_count": 17,
   "metadata": {
    "scrolled": false
   },
   "outputs": [
    {
     "data": {
      "text/plain": [
       "(array([2.05612346, 1.812973  , 1.37494332]),\n",
       " array([0.20561235, 0.1812973 , 0.13749433]),\n",
       " array([0.20561235, 0.38690965, 0.52440398]))"
      ]
     },
     "execution_count": 17,
     "metadata": {},
     "output_type": "execute_result"
    }
   ],
   "source": [
    "fa.get_factor_variance()"
   ]
  },
  {
   "cell_type": "markdown",
   "metadata": {},
   "source": [
    "columns: factors (3 columns, one for each factor)\n",
    "rows: SS Loadings, Proportion Var, Cumulative Var\n",
    "52% Variance explained by these three factors (w/ eigenvalue greater than 1), 38% explained by the first two factors"
   ]
  },
  {
   "cell_type": "code",
   "execution_count": 18,
   "metadata": {},
   "outputs": [
    {
     "data": {
      "text/plain": [
       "0.7663778976516235"
      ]
     },
     "execution_count": 18,
     "metadata": {},
     "output_type": "execute_result"
    }
   ],
   "source": [
    "# Cronbach alpha of the SSB items\n",
    "# answers if our scale is reliable (internal consistency)\n",
    "\n",
    "CronbachAlpha(SSB)"
   ]
  },
  {
   "cell_type": "code",
   "execution_count": 19,
   "metadata": {
    "collapsed": true
   },
   "outputs": [],
   "source": [
    " np.savetxt('SSB.txt', SSB, delimiter=',') "
   ]
  },
  {
   "cell_type": "markdown",
   "metadata": {},
   "source": [
    "## Department Belonging (DBel)"
   ]
  },
  {
   "cell_type": "code",
   "execution_count": 44,
   "metadata": {},
   "outputs": [
    {
     "name": "stderr",
     "output_type": "stream",
     "text": [
      "c:\\python3\\lib\\site-packages\\ipykernel_launcher.py:2: SettingWithCopyWarning: \n",
      "A value is trying to be set on a copy of a slice from a DataFrame\n",
      "\n",
      "See the caveats in the documentation: http://pandas.pydata.org/pandas-docs/stable/indexing.html#indexing-view-versus-copy\n",
      "  \n"
     ]
    },
    {
     "data": {
      "text/html": [
       "<div>\n",
       "<style scoped>\n",
       "    .dataframe tbody tr th:only-of-type {\n",
       "        vertical-align: middle;\n",
       "    }\n",
       "\n",
       "    .dataframe tbody tr th {\n",
       "        vertical-align: top;\n",
       "    }\n",
       "\n",
       "    .dataframe thead th {\n",
       "        text-align: right;\n",
       "    }\n",
       "</style>\n",
       "<table border=\"1\" class=\"dataframe\">\n",
       "  <thead>\n",
       "    <tr style=\"text-align: right;\">\n",
       "      <th></th>\n",
       "      <th>DBel.1_1</th>\n",
       "      <th>DBel.1_2</th>\n",
       "      <th>DBel.1_3</th>\n",
       "      <th>DBel.1_4</th>\n",
       "      <th>DBel.1_5</th>\n",
       "      <th>DBel.1_6</th>\n",
       "      <th>Dbel.1_7</th>\n",
       "      <th>DBel.1_8</th>\n",
       "      <th>DBel.1_9</th>\n",
       "      <th>DBel.1_10</th>\n",
       "      <th>DBel.1_11</th>\n",
       "    </tr>\n",
       "  </thead>\n",
       "  <tbody>\n",
       "    <tr>\n",
       "      <th>0</th>\n",
       "      <td>0.0</td>\n",
       "      <td>3.0</td>\n",
       "      <td>0.0</td>\n",
       "      <td>-1.0</td>\n",
       "      <td>-1.0</td>\n",
       "      <td>3.0</td>\n",
       "      <td>-1.0</td>\n",
       "      <td>1.0</td>\n",
       "      <td>2.0</td>\n",
       "      <td>-1.0</td>\n",
       "      <td>2.0</td>\n",
       "    </tr>\n",
       "    <tr>\n",
       "      <th>1</th>\n",
       "      <td>0.0</td>\n",
       "      <td>0.0</td>\n",
       "      <td>-1.0</td>\n",
       "      <td>-1.0</td>\n",
       "      <td>0.0</td>\n",
       "      <td>0.0</td>\n",
       "      <td>2.0</td>\n",
       "      <td>0.0</td>\n",
       "      <td>-1.0</td>\n",
       "      <td>-1.0</td>\n",
       "      <td>-1.0</td>\n",
       "    </tr>\n",
       "    <tr>\n",
       "      <th>2</th>\n",
       "      <td>0.0</td>\n",
       "      <td>1.0</td>\n",
       "      <td>0.0</td>\n",
       "      <td>-2.0</td>\n",
       "      <td>1.0</td>\n",
       "      <td>2.0</td>\n",
       "      <td>0.0</td>\n",
       "      <td>2.0</td>\n",
       "      <td>2.0</td>\n",
       "      <td>0.0</td>\n",
       "      <td>1.0</td>\n",
       "    </tr>\n",
       "    <tr>\n",
       "      <th>3</th>\n",
       "      <td>0.0</td>\n",
       "      <td>0.0</td>\n",
       "      <td>1.0</td>\n",
       "      <td>-1.0</td>\n",
       "      <td>1.0</td>\n",
       "      <td>0.0</td>\n",
       "      <td>0.0</td>\n",
       "      <td>-1.0</td>\n",
       "      <td>-1.0</td>\n",
       "      <td>1.0</td>\n",
       "      <td>1.0</td>\n",
       "    </tr>\n",
       "    <tr>\n",
       "      <th>4</th>\n",
       "      <td>2.0</td>\n",
       "      <td>-1.0</td>\n",
       "      <td>2.0</td>\n",
       "      <td>0.0</td>\n",
       "      <td>1.0</td>\n",
       "      <td>2.0</td>\n",
       "      <td>2.0</td>\n",
       "      <td>-1.0</td>\n",
       "      <td>2.0</td>\n",
       "      <td>1.0</td>\n",
       "      <td>3.0</td>\n",
       "    </tr>\n",
       "  </tbody>\n",
       "</table>\n",
       "</div>"
      ],
      "text/plain": [
       "   DBel.1_1  DBel.1_2  DBel.1_3  DBel.1_4  DBel.1_5  DBel.1_6  Dbel.1_7  \\\n",
       "0       0.0       3.0       0.0      -1.0      -1.0       3.0      -1.0   \n",
       "1       0.0       0.0      -1.0      -1.0       0.0       0.0       2.0   \n",
       "2       0.0       1.0       0.0      -2.0       1.0       2.0       0.0   \n",
       "3       0.0       0.0       1.0      -1.0       1.0       0.0       0.0   \n",
       "4       2.0      -1.0       2.0       0.0       1.0       2.0       2.0   \n",
       "\n",
       "   DBel.1_8  DBel.1_9  DBel.1_10  DBel.1_11  \n",
       "0       1.0       2.0       -1.0        2.0  \n",
       "1       0.0      -1.0       -1.0       -1.0  \n",
       "2       2.0       2.0        0.0        1.0  \n",
       "3      -1.0      -1.0        1.0        1.0  \n",
       "4      -1.0       2.0        1.0        3.0  "
      ]
     },
     "execution_count": 44,
     "metadata": {},
     "output_type": "execute_result"
    }
   ],
   "source": [
    "# We can perform the same series of steps for department belonging factor analysis\n",
    "\n",
    "DBel = df[['DBel.1_1','DBel.1_2','DBel.1_3','DBel.1_4','DBel.1_5','DBel.1_6','Dbel.1_7','DBel.1_8','DBel.1_9','DBel.1_10','DBel.1_11']]\n",
    "DBel.dropna(inplace=True)   #drop rows with missing values\n",
    "DBel.head()    #view first fiew rows + all columns\n"
   ]
  },
  {
   "cell_type": "code",
   "execution_count": null,
   "metadata": {
    "collapsed": true
   },
   "outputs": [],
   "source": []
  },
  {
   "cell_type": "code",
   "execution_count": 45,
   "metadata": {},
   "outputs": [
    {
     "data": {
      "text/plain": [
       "(643.6593439580083, 1.1558996671625944e-101)"
      ]
     },
     "execution_count": 45,
     "metadata": {},
     "output_type": "execute_result"
    }
   ],
   "source": [
    "#check factoribility\n",
    "#Bartlett's test\n",
    "chi_square_value, p_value = calculate_bartlett_sphericity(DBel)\n",
    "chi_square_value, p_value"
   ]
  },
  {
   "cell_type": "code",
   "execution_count": 46,
   "metadata": {},
   "outputs": [
    {
     "data": {
      "text/plain": [
       "0.810809245506706"
      ]
     },
     "execution_count": 46,
     "metadata": {},
     "output_type": "execute_result"
    }
   ],
   "source": [
    "#KMO Test\n",
    "kmo_all, kmo_model = calculate_kmo(DBel)\n",
    "kmo_model"
   ]
  },
  {
   "cell_type": "code",
   "execution_count": 47,
   "metadata": {},
   "outputs": [
    {
     "name": "stdout",
     "output_type": "stream",
     "text": [
      "[[ 0.4641272   0.06244781]\n",
      " [ 0.48101182  0.21202509]\n",
      " [ 0.47607944 -0.02797116]\n",
      " [ 0.81755779 -0.19091373]\n",
      " [ 0.32484973  0.21101567]\n",
      " [ 0.69853384 -0.13396921]\n",
      " [ 0.42290552  0.11756656]\n",
      " [-0.02087216  0.66331514]\n",
      " [-0.03624511  0.76431946]\n",
      " [ 0.76905724  0.01334353]\n",
      " [-0.07157401  0.59250139]]\n"
     ]
    }
   ],
   "source": [
    "#Finding number of factors\n",
    "fa = FactorAnalyzer(n_factors = 2)\n",
    "fa.fit(DBel)\n",
    "print(fa.loadings_)"
   ]
  },
  {
   "cell_type": "code",
   "execution_count": 48,
   "metadata": {},
   "outputs": [
    {
     "data": {
      "text/plain": [
       "array([[1, 0],\n",
       "       [1, 0],\n",
       "       [1, 0],\n",
       "       [1, 0],\n",
       "       [1, 0],\n",
       "       [1, 0],\n",
       "       [1, 0],\n",
       "       [0, 1],\n",
       "       [0, 1],\n",
       "       [1, 0],\n",
       "       [0, 1]])"
      ]
     },
     "execution_count": 48,
     "metadata": {},
     "output_type": "execute_result"
    }
   ],
   "source": [
    "test_load(fa.loadings_)  \n",
    "#function I wrote to return boolean version of factor loadings matrix"
   ]
  },
  {
   "cell_type": "code",
   "execution_count": 49,
   "metadata": {},
   "outputs": [
    {
     "name": "stdout",
     "output_type": "stream",
     "text": [
      "[3.87575169 1.42792786 1.07414742 0.84208473 0.72672486 0.69996805\n",
      " 0.6018     0.52907272 0.50621003 0.40893848 0.30737416]\n"
     ]
    }
   ],
   "source": [
    "ev, v = fa.get_eigenvalues()\n",
    "print(ev)"
   ]
  },
  {
   "cell_type": "code",
   "execution_count": 50,
   "metadata": {},
   "outputs": [
    {
     "data": {
      "image/png": "[encoded data removed]",
      "text/plain": [
       "<Figure size 432x288 with 1 Axes>"
      ]
     },
     "metadata": {
      "needs_background": "light"
     },
     "output_type": "display_data"
    }
   ],
   "source": [
    "plt.scatter(range(1,DBel.shape[1]+1),ev)\n",
    "plt.plot(range(1,DBel.shape[1]+1),ev)\n",
    "plt.title('Scree Plot')\n",
    "plt.xlabel('Factors')\n",
    "plt.ylabel('Eigenvalue')\n",
    "plt.grid()\n",
    "plt.hlines(1, xmin=0, xmax = 11,linestyles='dashed', color = 'red')\n",
    "plt.savefig(r'C:\\Users\\abyru\\Python\\Projects\\PER\\GradRetention\\Plots\\Scree\\DBel_scree.png')\n",
    "plt.show()"
   ]
  },
  {
   "cell_type": "code",
   "execution_count": 51,
   "metadata": {},
   "outputs": [
    {
     "data": {
      "text/plain": [
       "array([[-5.00815312e-02,  7.09075433e-02,  7.05491695e-01],\n",
       "       [ 4.84264669e-01,  2.08048946e-01,  1.61371164e-02],\n",
       "       [-7.82089919e-04, -3.63448699e-02,  6.61645184e-01],\n",
       "       [ 9.32877929e-01, -2.34402168e-01, -5.80734256e-02],\n",
       "       [ 2.65712429e-01,  2.15294689e-01,  7.94804631e-02],\n",
       "       [ 4.91478167e-01, -1.16332557e-01,  2.55012213e-01],\n",
       "       [ 5.51108970e-01,  1.11321823e-01, -1.35616287e-01],\n",
       "       [-9.05538672e-02,  6.62927456e-01,  9.78669356e-02],\n",
       "       [ 2.08951926e-02,  7.55150425e-01, -5.46603400e-02],\n",
       "       [ 7.15947506e-01,  1.72067434e-02,  7.99608054e-02],\n",
       "       [-3.34175863e-02,  5.81588868e-01, -3.24772928e-02]])"
      ]
     },
     "execution_count": 51,
     "metadata": {},
     "output_type": "execute_result"
    }
   ],
   "source": [
    "#use appropriate number of factors given first pass above\n",
    "fa = FactorAnalyzer(n_factors=3)\n",
    "fa.fit(DBel)\n",
    "fa.loadings_"
   ]
  },
  {
   "cell_type": "code",
   "execution_count": 52,
   "metadata": {},
   "outputs": [
    {
     "data": {
      "text/plain": [
       "array([[0, 0, 1],\n",
       "       [1, 0, 0],\n",
       "       [0, 0, 1],\n",
       "       [1, 0, 0],\n",
       "       [0, 0, 0],\n",
       "       [1, 0, 0],\n",
       "       [1, 0, 0],\n",
       "       [0, 1, 0],\n",
       "       [0, 1, 0],\n",
       "       [1, 0, 0],\n",
       "       [0, 1, 0]])"
      ]
     },
     "execution_count": 52,
     "metadata": {},
     "output_type": "execute_result"
    }
   ],
   "source": [
    "test_load(fa.loadings_)"
   ]
  },
  {
   "cell_type": "code",
   "execution_count": 53,
   "metadata": {},
   "outputs": [
    {
     "data": {
      "text/plain": [
       "(array([2.24549143, 1.52512184, 1.04888016]),\n",
       " array([0.20413558, 0.13864744, 0.09535274]),\n",
       " array([0.20413558, 0.34278302, 0.43813577]))"
      ]
     },
     "execution_count": 53,
     "metadata": {},
     "output_type": "execute_result"
    }
   ],
   "source": [
    "fa.get_factor_variance()\n",
    "#columns: factors (3 columns, one for each factor) rows: SS Loadings, Proportion Var, #Cumulative Var"
   ]
  },
  {
   "cell_type": "code",
   "execution_count": 54,
   "metadata": {},
   "outputs": [
    {
     "data": {
      "text/plain": [
       "0.8038043435489294"
      ]
     },
     "execution_count": 54,
     "metadata": {},
     "output_type": "execute_result"
    }
   ],
   "source": [
    "CronbachAlpha(DBel)"
   ]
  },
  {
   "cell_type": "code",
   "execution_count": 55,
   "metadata": {
    "collapsed": true
   },
   "outputs": [],
   "source": [
    " np.savetxt('DBel.txt', DBel, delimiter=',')"
   ]
  },
  {
   "cell_type": "markdown",
   "metadata": {},
   "source": [
    "## Research Group Belonging (RBel)"
   ]
  },
  {
   "cell_type": "code",
   "execution_count": 56,
   "metadata": {},
   "outputs": [
    {
     "name": "stderr",
     "output_type": "stream",
     "text": [
      "c:\\python3\\lib\\site-packages\\ipykernel_launcher.py:2: SettingWithCopyWarning: \n",
      "A value is trying to be set on a copy of a slice from a DataFrame\n",
      "\n",
      "See the caveats in the documentation: http://pandas.pydata.org/pandas-docs/stable/indexing.html#indexing-view-versus-copy\n",
      "  \n"
     ]
    },
    {
     "data": {
      "text/html": [
       "<div>\n",
       "<style scoped>\n",
       "    .dataframe tbody tr th:only-of-type {\n",
       "        vertical-align: middle;\n",
       "    }\n",
       "\n",
       "    .dataframe tbody tr th {\n",
       "        vertical-align: top;\n",
       "    }\n",
       "\n",
       "    .dataframe thead th {\n",
       "        text-align: right;\n",
       "    }\n",
       "</style>\n",
       "<table border=\"1\" class=\"dataframe\">\n",
       "  <thead>\n",
       "    <tr style=\"text-align: right;\">\n",
       "      <th></th>\n",
       "      <th>RBel.3_1</th>\n",
       "      <th>RBel.3_2</th>\n",
       "      <th>RBel.3_3</th>\n",
       "      <th>RBel.3_4</th>\n",
       "      <th>RBel.3_5</th>\n",
       "      <th>RBel.3_6</th>\n",
       "      <th>RBel.3_7</th>\n",
       "      <th>RBel.3_8</th>\n",
       "      <th>RBel.3_9</th>\n",
       "      <th>RBel.3_10</th>\n",
       "      <th>RBel.3_11</th>\n",
       "    </tr>\n",
       "  </thead>\n",
       "  <tbody>\n",
       "    <tr>\n",
       "      <th>0</th>\n",
       "      <td>0.0</td>\n",
       "      <td>0.0</td>\n",
       "      <td>1.0</td>\n",
       "      <td>-2.0</td>\n",
       "      <td>-1.0</td>\n",
       "      <td>1.0</td>\n",
       "      <td>-1.0</td>\n",
       "      <td>0.0</td>\n",
       "      <td>-2.0</td>\n",
       "      <td>-1.0</td>\n",
       "      <td>-3.0</td>\n",
       "    </tr>\n",
       "    <tr>\n",
       "      <th>1</th>\n",
       "      <td>0.0</td>\n",
       "      <td>1.0</td>\n",
       "      <td>0.0</td>\n",
       "      <td>-1.0</td>\n",
       "      <td>0.0</td>\n",
       "      <td>1.0</td>\n",
       "      <td>-2.0</td>\n",
       "      <td>0.0</td>\n",
       "      <td>-2.0</td>\n",
       "      <td>-1.0</td>\n",
       "      <td>-3.0</td>\n",
       "    </tr>\n",
       "    <tr>\n",
       "      <th>2</th>\n",
       "      <td>1.0</td>\n",
       "      <td>0.0</td>\n",
       "      <td>2.0</td>\n",
       "      <td>1.0</td>\n",
       "      <td>1.0</td>\n",
       "      <td>2.0</td>\n",
       "      <td>2.0</td>\n",
       "      <td>2.0</td>\n",
       "      <td>1.0</td>\n",
       "      <td>1.0</td>\n",
       "      <td>-2.0</td>\n",
       "    </tr>\n",
       "    <tr>\n",
       "      <th>4</th>\n",
       "      <td>3.0</td>\n",
       "      <td>0.0</td>\n",
       "      <td>2.0</td>\n",
       "      <td>1.0</td>\n",
       "      <td>0.0</td>\n",
       "      <td>2.0</td>\n",
       "      <td>2.0</td>\n",
       "      <td>0.0</td>\n",
       "      <td>-1.0</td>\n",
       "      <td>1.0</td>\n",
       "      <td>-3.0</td>\n",
       "    </tr>\n",
       "    <tr>\n",
       "      <th>5</th>\n",
       "      <td>3.0</td>\n",
       "      <td>2.0</td>\n",
       "      <td>2.0</td>\n",
       "      <td>2.0</td>\n",
       "      <td>3.0</td>\n",
       "      <td>2.0</td>\n",
       "      <td>2.0</td>\n",
       "      <td>2.0</td>\n",
       "      <td>2.0</td>\n",
       "      <td>3.0</td>\n",
       "      <td>1.0</td>\n",
       "    </tr>\n",
       "  </tbody>\n",
       "</table>\n",
       "</div>"
      ],
      "text/plain": [
       "   RBel.3_1  RBel.3_2  RBel.3_3  RBel.3_4  RBel.3_5  RBel.3_6  RBel.3_7  \\\n",
       "0       0.0       0.0       1.0      -2.0      -1.0       1.0      -1.0   \n",
       "1       0.0       1.0       0.0      -1.0       0.0       1.0      -2.0   \n",
       "2       1.0       0.0       2.0       1.0       1.0       2.0       2.0   \n",
       "4       3.0       0.0       2.0       1.0       0.0       2.0       2.0   \n",
       "5       3.0       2.0       2.0       2.0       3.0       2.0       2.0   \n",
       "\n",
       "   RBel.3_8  RBel.3_9  RBel.3_10  RBel.3_11  \n",
       "0       0.0      -2.0       -1.0       -3.0  \n",
       "1       0.0      -2.0       -1.0       -3.0  \n",
       "2       2.0       1.0        1.0       -2.0  \n",
       "4       0.0      -1.0        1.0       -3.0  \n",
       "5       2.0       2.0        3.0        1.0  "
      ]
     },
     "execution_count": 56,
     "metadata": {},
     "output_type": "execute_result"
    }
   ],
   "source": [
    "# We can perform the same series of steps for research group belonging factor analysis\n",
    "\n",
    "\n",
    "RBel = df[['RBel.3_1','RBel.3_2','RBel.3_3','RBel.3_4','RBel.3_5','RBel.3_6','RBel.3_7','RBel.3_8','RBel.3_9','RBel.3_10','RBel.3_11']]\n",
    "RBel.dropna(inplace=True)   #drop rows with missing values\n",
    "RBel.head()    #view first fiew rows + all columns\n"
   ]
  },
  {
   "cell_type": "code",
   "execution_count": 57,
   "metadata": {},
   "outputs": [
    {
     "data": {
      "text/plain": [
       "(1170.6326324140978, 3.28008439499389e-209)"
      ]
     },
     "execution_count": 57,
     "metadata": {},
     "output_type": "execute_result"
    }
   ],
   "source": [
    "#check factoribility\n",
    "#Bartlett's test\n",
    "chi_square_value, p_value = calculate_bartlett_sphericity(RBel)\n",
    "chi_square_value, p_value"
   ]
  },
  {
   "cell_type": "code",
   "execution_count": 58,
   "metadata": {},
   "outputs": [
    {
     "data": {
      "text/plain": [
       "0.890804307378262"
      ]
     },
     "execution_count": 58,
     "metadata": {},
     "output_type": "execute_result"
    }
   ],
   "source": [
    "#KMO Test\n",
    "kmo_all, kmo_model = calculate_kmo(RBel)\n",
    "kmo_model"
   ]
  },
  {
   "cell_type": "code",
   "execution_count": 59,
   "metadata": {},
   "outputs": [
    {
     "name": "stdout",
     "output_type": "stream",
     "text": [
      "[[ 0.41280153  0.38579561]\n",
      " [ 0.53976585  0.15160758]\n",
      " [ 0.88933629 -0.19270007]\n",
      " [ 0.71936801  0.08286809]\n",
      " [ 0.46049895  0.3359255 ]\n",
      " [ 0.94486384 -0.20063176]\n",
      " [ 0.80799471 -0.05971025]\n",
      " [ 0.19214731  0.55993447]\n",
      " [-0.05180154  0.80569631]\n",
      " [ 0.71643644  0.17773514]\n",
      " [-0.16752758  0.60994543]]\n"
     ]
    },
    {
     "data": {
      "text/plain": [
       "array([[1, 1],\n",
       "       [1, 0],\n",
       "       [1, 0],\n",
       "       [1, 0],\n",
       "       [1, 1],\n",
       "       [1, 0],\n",
       "       [1, 0],\n",
       "       [0, 1],\n",
       "       [0, 1],\n",
       "       [1, 0],\n",
       "       [0, 1]])"
      ]
     },
     "execution_count": 59,
     "metadata": {},
     "output_type": "execute_result"
    }
   ],
   "source": [
    "#Finding number of factors\n",
    "fa = FactorAnalyzer(n_factors = 2)\n",
    "fa.fit(RBel)\n",
    "print(fa.loadings_)\n",
    "\n",
    "test_load(fa.loadings_)  \n",
    "#function I wrote to return boolean version of factor loadings matrix\n"
   ]
  },
  {
   "cell_type": "code",
   "execution_count": 60,
   "metadata": {},
   "outputs": [
    {
     "name": "stdout",
     "output_type": "stream",
     "text": [
      "[5.61426716 1.32220677 0.74819292 0.68718089 0.56302213 0.49167906\n",
      " 0.46088957 0.38543237 0.33502607 0.19895218 0.19315085]\n"
     ]
    }
   ],
   "source": [
    "#Finding number of factors\n",
    "ev, v = fa.get_eigenvalues()\n",
    "print(ev)"
   ]
  },
  {
   "cell_type": "code",
   "execution_count": 61,
   "metadata": {},
   "outputs": [
    {
     "data": {
      "image/png": "[encoded data removed]",
      "text/plain": [
       "<Figure size 432x288 with 1 Axes>"
      ]
     },
     "metadata": {
      "needs_background": "light"
     },
     "output_type": "display_data"
    }
   ],
   "source": [
    "plt.scatter(range(1,RBel.shape[1]+1),ev)\n",
    "plt.plot(range(1,RBel.shape[1]+1),ev)\n",
    "plt.title('Scree Plot')\n",
    "plt.xlabel('Factors')\n",
    "plt.ylabel('Eigenvalue')\n",
    "plt.grid()\n",
    "plt.hlines(1, xmin=0, xmax = 11,linestyles='dashed', color = 'red')\n",
    "plt.savefig(r'C:\\Users\\abyru\\Python\\Projects\\PER\\GradRetention\\Plots\\Scree\\RBel_scree.png')\n",
    "plt.show()"
   ]
  },
  {
   "cell_type": "code",
   "execution_count": 62,
   "metadata": {
    "scrolled": false
   },
   "outputs": [
    {
     "data": {
      "text/plain": [
       "array([[ 0.41280153,  0.38579561],\n",
       "       [ 0.53976585,  0.15160758],\n",
       "       [ 0.88933629, -0.19270007],\n",
       "       [ 0.71936801,  0.08286809],\n",
       "       [ 0.46049895,  0.3359255 ],\n",
       "       [ 0.94486384, -0.20063176],\n",
       "       [ 0.80799471, -0.05971025],\n",
       "       [ 0.19214731,  0.55993447],\n",
       "       [-0.05180154,  0.80569631],\n",
       "       [ 0.71643644,  0.17773514],\n",
       "       [-0.16752758,  0.60994543]])"
      ]
     },
     "execution_count": 62,
     "metadata": {},
     "output_type": "execute_result"
    }
   ],
   "source": [
    "#use appropriate number of factors given first pass above\n",
    "fa = FactorAnalyzer(n_factors=2)\n",
    "fa.fit(RBel)\n",
    "fa.loadings_"
   ]
  },
  {
   "cell_type": "code",
   "execution_count": 63,
   "metadata": {},
   "outputs": [
    {
     "data": {
      "text/plain": [
       "array([[1, 1],\n",
       "       [1, 0],\n",
       "       [1, 0],\n",
       "       [1, 0],\n",
       "       [1, 1],\n",
       "       [1, 0],\n",
       "       [1, 0],\n",
       "       [0, 1],\n",
       "       [0, 1],\n",
       "       [1, 0],\n",
       "       [0, 1]])"
      ]
     },
     "execution_count": 63,
     "metadata": {},
     "output_type": "execute_result"
    }
   ],
   "source": [
    "test_load(fa.loadings_)"
   ]
  },
  {
   "cell_type": "code",
   "execution_count": 64,
   "metadata": {},
   "outputs": [
    {
     "data": {
      "text/plain": [
       "(array([4.10879471, 1.73878427]),\n",
       " array([0.37352679, 0.1580713 ]),\n",
       " array([0.37352679, 0.53159809]))"
      ]
     },
     "execution_count": 64,
     "metadata": {},
     "output_type": "execute_result"
    }
   ],
   "source": [
    "fa.get_factor_variance()\n",
    "#columns: factors (3 columns, one for each factor) rows: SS Loadings, Proportion Var, #Cumulative Var"
   ]
  },
  {
   "cell_type": "code",
   "execution_count": 65,
   "metadata": {},
   "outputs": [
    {
     "data": {
      "text/plain": [
       "0.890420852556365"
      ]
     },
     "execution_count": 65,
     "metadata": {},
     "output_type": "execute_result"
    }
   ],
   "source": [
    "CronbachAlpha(RBel)"
   ]
  },
  {
   "cell_type": "code",
   "execution_count": 66,
   "metadata": {
    "collapsed": true
   },
   "outputs": [],
   "source": [
    "np.savetxt('RBel.txt', RBel, delimiter=',')"
   ]
  }
 ],
 "metadata": {
  "kernelspec": {
   "display_name": "Python 3",
   "language": "python",
   "name": "python3"
  },
  "language_info": {
   "codemirror_mode": {
    "name": "ipython",
    "version": 3
   },
   "file_extension": ".py",
   "mimetype": "text/x-python",
   "name": "python",
   "nbconvert_exporter": "python",
   "pygments_lexer": "ipython3",
   "version": "3.6.3"
  }
 },
 "nbformat": 4,
 "nbformat_minor": 2
}
